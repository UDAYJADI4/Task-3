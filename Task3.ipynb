{
 "cells": [
  {
   "cell_type": "code",
   "execution_count": 1,
   "id": "b423f847-2da2-49a6-bf4c-d62cdfbc2418",
   "metadata": {},
   "outputs": [],
   "source": [
    "import os\n",
    "import numpy as np\n",
    "from sklearn.svm import SVC\n",
    "from sklearn.metrics import classification_report, confusion_matrix\n",
    "import matplotlib.pyplot as plt\n",
    "from tqdm import tqdm\n",
    "import joblib\n",
    "from sklearn.model_selection import GridSearchCV\n",
    "import cv2\n",
    "import seaborn as sns\n",
    "import time\n",
    "from sklearn.decomposition import PCA\n",
    "from sklearn.pipeline import Pipeline\n",
    "from sklearn.model_selection import train_test_split"
   ]
  },
  {
   "cell_type": "code",
   "execution_count": 2,
   "id": "f5a46699-cb8d-4a7b-b203-15c4d5e1dce8",
   "metadata": {},
   "outputs": [],
   "source": [
    "import zipfile\n",
    "\n",
    "with zipfile.ZipFile('train.zip', 'r') as zip:\n",
    "    zip.extractall('dataset')"
   ]
  },
  {
   "cell_type": "code",
   "execution_count": 3,
   "id": "194cc1c2-bae4-41a5-bec2-06780296dbab",
   "metadata": {},
   "outputs": [],
   "source": [
    "import zipfile\n",
    "\n",
    "with zipfile.ZipFile('test1.zip', 'r') as zip:\n",
    "    zip.extractall('dataset')"
   ]
  },
  {
   "cell_type": "code",
   "execution_count": 4,
   "id": "825690bf-6098-4abe-bd0e-eb739d6d6557",
   "metadata": {},
   "outputs": [
    {
     "name": "stderr",
     "output_type": "stream",
     "text": [
      "Processing Train Images: 100%|██████████| 25000/25000 [00:20<00:00, 1196.56it/s]\n"
     ]
    }
   ],
   "source": [
    "train_images = os.listdir('dataset/train')\n",
    "features = []\n",
    "labels = []\n",
    "image_size = (50, 50)\n",
    "\n",
    "#Processing train images\n",
    "for image in tqdm(train_images, desc=\"Processing Train Images\"):\n",
    "    if image[0:3] == 'cat' :\n",
    "        label = 0\n",
    "    else :\n",
    "        label = 1\n",
    "    image_read = cv2.imread('dataset/train'+\"/\"+image)\n",
    "    image_resized = cv2.resize(image_read, image_size)\n",
    "    image_normalized = image_resized / 255.0\n",
    "    image_flatten = image_normalized.flatten()\n",
    "    features.append(image_flatten)\n",
    "    labels.append(label)"
   ]
  },
  {
   "cell_type": "code",
   "execution_count": 5,
   "id": "0581efe4-d534-4530-a402-15b79337d35a",
   "metadata": {},
   "outputs": [],
   "source": [
    "del train_images"
   ]
  },
  {
   "cell_type": "code",
   "execution_count": 6,
   "id": "e383de91-1dc4-4d31-9615-8c6a8f0693ad",
   "metadata": {},
   "outputs": [],
   "source": [
    "features = np.asarray(features)\n",
    "labels = np.asarray(labels)\n",
    "\n",
    "X_train, X_test, y_train, y_test = train_test_split(features, labels, test_size=0.2, shuffle=True, random_state=20)"
   ]
  },
  {
   "cell_type": "code",
   "execution_count": 7,
   "id": "206c50a8-0841-4528-b940-0d70dbcab2ea",
   "metadata": {},
   "outputs": [],
   "source": [
    "del features\n",
    "del labels"
   ]
  },
  {
   "cell_type": "code",
   "execution_count": 8,
   "id": "63450156-3853-4fdd-8103-d0c08f6da763",
   "metadata": {},
   "outputs": [],
   "source": [
    "n_components = 0.8\n",
    "pca = PCA(n_components=n_components)\n",
    "svm = SVC()\n",
    "pca = PCA(n_components=n_components, random_state=42)\n",
    "pipeline = Pipeline([\n",
    "    ('pca', pca),\n",
    "    ('svm', svm)\n",
    "])"
   ]
  },
  {
   "cell_type": "code",
   "execution_count": 9,
   "id": "dac9e46e-7ebf-42cd-85d7-3db64969d34a",
   "metadata": {},
   "outputs": [],
   "source": [
    "param_grid = {\n",
    "    'pca__n_components': [2, 1, 0.9, 0.8],\n",
    "    'svm__kernel': ['linear', 'rbf', 'poly', 'sigmoid'],\n",
    "}"
   ]
  },
  {
   "cell_type": "code",
   "execution_count": null,
   "id": "cfb2754b-6393-41a9-8267-fe3a8ea75311",
   "metadata": {},
   "outputs": [
    {
     "name": "stdout",
     "output_type": "stream",
     "text": [
      "Fitting 3 folds for each of 16 candidates, totalling 48 fits\n",
      "[CV 1/3] END pca__n_components=2, svm__kernel=linear;, score=0.526 total time=  16.3s\n",
      "[CV 2/3] END pca__n_components=2, svm__kernel=linear;, score=0.526 total time=  15.8s\n",
      "[CV 3/3] END pca__n_components=2, svm__kernel=linear;, score=0.526 total time=  15.4s\n",
      "[CV 1/3] END pca__n_components=2, svm__kernel=rbf;, score=0.571 total time=  11.6s\n",
      "[CV 2/3] END pca__n_components=2, svm__kernel=rbf;, score=0.573 total time=  12.2s\n",
      "[CV 3/3] END pca__n_components=2, svm__kernel=rbf;, score=0.558 total time=  11.6s\n",
      "[CV 1/3] END pca__n_components=2, svm__kernel=poly;, score=0.483 total time=   9.0s\n",
      "[CV 2/3] END pca__n_components=2, svm__kernel=poly;, score=0.487 total time=   9.2s\n",
      "[CV 3/3] END pca__n_components=2, svm__kernel=poly;, score=0.486 total time=   9.1s\n",
      "[CV 1/3] END pca__n_components=2, svm__kernel=sigmoid;, score=0.503 total time=   8.0s\n",
      "[CV 2/3] END pca__n_components=2, svm__kernel=sigmoid;, score=0.507 total time=   7.8s\n",
      "[CV 3/3] END pca__n_components=2, svm__kernel=sigmoid;, score=0.503 total time=   9.7s\n",
      "[CV 1/3] END pca__n_components=1, svm__kernel=linear;, score=0.520 total time=  10.8s\n",
      "[CV 2/3] END pca__n_components=1, svm__kernel=linear;, score=0.516 total time=  12.1s\n",
      "[CV 3/3] END pca__n_components=1, svm__kernel=linear;, score=0.511 total time=  11.0s\n",
      "[CV 1/3] END pca__n_components=1, svm__kernel=rbf;, score=0.539 total time=  11.6s\n",
      "[CV 2/3] END pca__n_components=1, svm__kernel=rbf;, score=0.522 total time=  10.9s\n",
      "[CV 3/3] END pca__n_components=1, svm__kernel=rbf;, score=0.522 total time=  11.6s\n",
      "[CV 1/3] END pca__n_components=1, svm__kernel=poly;, score=0.501 total time=   8.9s\n",
      "[CV 2/3] END pca__n_components=1, svm__kernel=poly;, score=0.504 total time=   9.3s\n",
      "[CV 3/3] END pca__n_components=1, svm__kernel=poly;, score=0.497 total time=  27.7s\n",
      "[CV 1/3] END pca__n_components=1, svm__kernel=sigmoid;, score=0.500 total time=  10.0s\n",
      "[CV 2/3] END pca__n_components=1, svm__kernel=sigmoid;, score=0.505 total time=   9.0s\n",
      "[CV 3/3] END pca__n_components=1, svm__kernel=sigmoid;, score=0.508 total time=   8.0s\n"
     ]
    }
   ],
   "source": [
    "start_time = time.time()\n",
    "\n",
    "grid_search = GridSearchCV(pipeline, param_grid, cv=3, verbose=4)\n",
    "grid_search.fit(X_train, y_train)\n",
    "\n",
    "end_time = time.time()"
   ]
  },
  {
   "cell_type": "code",
   "execution_count": null,
   "id": "b31553d9-d52f-4ad2-9345-e60b1a126910",
   "metadata": {},
   "outputs": [],
   "source": []
  }
 ],
 "metadata": {
  "kernelspec": {
   "display_name": "Python 3 (ipykernel)",
   "language": "python",
   "name": "python3"
  },
  "language_info": {
   "codemirror_mode": {
    "name": "ipython",
    "version": 3
   },
   "file_extension": ".py",
   "mimetype": "text/x-python",
   "name": "python",
   "nbconvert_exporter": "python",
   "pygments_lexer": "ipython3",
   "version": "3.11.7"
  }
 },
 "nbformat": 4,
 "nbformat_minor": 5
}
